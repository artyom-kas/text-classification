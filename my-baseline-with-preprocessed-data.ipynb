{
 "cells": [
  {
   "cell_type": "code",
   "execution_count": 1,
   "metadata": {},
   "outputs": [
    {
     "name": "stdout",
     "output_type": "stream",
     "text": [
      "Collecting pymystem3\r\n",
      "  Downloading pymystem3-0.2.0-py3-none-any.whl (10 kB)\r\n",
      "Requirement already satisfied: requests in /opt/conda/lib/python3.7/site-packages (from pymystem3) (2.23.0)\r\n",
      "Requirement already satisfied: certifi>=2017.4.17 in /opt/conda/lib/python3.7/site-packages (from requests->pymystem3) (2020.4.5.1)\r\n",
      "Requirement already satisfied: urllib3!=1.25.0,!=1.25.1,<1.26,>=1.21.1 in /opt/conda/lib/python3.7/site-packages (from requests->pymystem3) (1.25.7)\r\n",
      "Requirement already satisfied: chardet<4,>=3.0.2 in /opt/conda/lib/python3.7/site-packages (from requests->pymystem3) (3.0.4)\r\n",
      "Requirement already satisfied: idna<3,>=2.5 in /opt/conda/lib/python3.7/site-packages (from requests->pymystem3) (2.9)\r\n",
      "Installing collected packages: pymystem3\r\n",
      "Successfully installed pymystem3-0.2.0\r\n"
     ]
    }
   ],
   "source": [
    "!pip install pymystem3"
   ]
  },
  {
   "cell_type": "code",
   "execution_count": 2,
   "metadata": {},
   "outputs": [],
   "source": [
    "# !pip install pymorphy2\n",
    "# !pip install pymorphy2-dicts-ru\n",
    "# !pip install DAWG-Python"
   ]
  },
  {
   "cell_type": "code",
   "execution_count": 3,
   "metadata": {},
   "outputs": [],
   "source": [
    "import numpy as np\n",
    "import os\n",
    "import pandas as pd\n",
    "\n",
    "from sklearn.feature_extraction.text import TfidfVectorizer\n",
    "from sklearn.linear_model import LogisticRegression\n",
    "from sklearn.metrics import accuracy_score\n",
    "from sklearn.model_selection import train_test_split\n",
    "\n",
    "from pymystem3 import Mystem\n",
    "# from pymorphy2 import MorphAnalyzer\n",
    "from nltk.tokenize import WordPunctTokenizer\n",
    "from nltk.corpus import stopwords\n",
    "from string import punctuation\n",
    "from tqdm import tqdm"
   ]
  },
  {
   "cell_type": "code",
   "execution_count": 4,
   "metadata": {
    "_cell_guid": "b1076dfc-b9ad-4769-8c92-a6c4dae69d19",
    "_uuid": "8f2839f25d086af736a60e9eeb907d3b93b6e0e5"
   },
   "outputs": [
    {
     "name": "stdout",
     "output_type": "stream",
     "text": [
      "/kaggle/input/preprocessed-data/df_preprocessed.csv\n",
      "/kaggle/input/texts-classification-iad-hse-intro-2020/train.csv\n",
      "/kaggle/input/texts-classification-iad-hse-intro-2020/test.csv\n",
      "/kaggle/input/texts-classification-iad-hse-intro-2020/sample_submission.csv\n"
     ]
    }
   ],
   "source": [
    "for dirname, _, filenames in os.walk('/kaggle/input'):\n",
    "    for filename in filenames:\n",
    "        print(os.path.join(dirname, filename))"
   ]
  },
  {
   "cell_type": "code",
   "execution_count": 5,
   "metadata": {
    "_cell_guid": "79c7e3d0-c299-4dcb-8224-4455121ee9b0",
    "_uuid": "d629ff2d2480ee46fbb7e2d37f6b5fab8052498a"
   },
   "outputs": [],
   "source": [
    "DATA_DIR = '/kaggle/input/'\n",
    "\n",
    "df_train = pd.read_csv(os.path.join(DATA_DIR, 'preprocessed-data/df_preprocessed.csv'), dtype={'Category' : 'uint8'})\n",
    "# df_test = pd.read_csv(os.path.join(DATA_DIR, 'test.csv'), dtype={'itemid' : 'uint32'})\n",
    "# sub = pd.read_csv(os.path.join(DATA_DIR, 'sample_submission.csv'), dtype={'itemid' : 'uint32', 'Category' : 'uint8'})"
   ]
  },
  {
   "cell_type": "code",
   "execution_count": 6,
   "metadata": {},
   "outputs": [
    {
     "data": {
      "text/html": [
       "<div>\n",
       "<style scoped>\n",
       "    .dataframe tbody tr th:only-of-type {\n",
       "        vertical-align: middle;\n",
       "    }\n",
       "\n",
       "    .dataframe tbody tr th {\n",
       "        vertical-align: top;\n",
       "    }\n",
       "\n",
       "    .dataframe thead th {\n",
       "        text-align: right;\n",
       "    }\n",
       "</style>\n",
       "<table border=\"1\" class=\"dataframe\">\n",
       "  <thead>\n",
       "    <tr style=\"text-align: right;\">\n",
       "      <th></th>\n",
       "      <th>Category_name</th>\n",
       "      <th>Category</th>\n",
       "      <th>title&amp;description</th>\n",
       "    </tr>\n",
       "  </thead>\n",
       "  <tbody>\n",
       "    <tr>\n",
       "      <th>0</th>\n",
       "      <td>Запчасти и аксессуары</td>\n",
       "      <td>10</td>\n",
       "      <td>эбу renault nissan dci delphi год комплект эбу...</td>\n",
       "    </tr>\n",
       "    <tr>\n",
       "      <th>1</th>\n",
       "      <td>Бытовая техника</td>\n",
       "      <td>21</td>\n",
       "      <td>утюг утп ватт ссср год продавать фото утюг утп...</td>\n",
       "    </tr>\n",
       "    <tr>\n",
       "      <th>2</th>\n",
       "      <td>Предложение услуг</td>\n",
       "      <td>114</td>\n",
       "      <td>возвма машина выкуп взять машина аренда послед...</td>\n",
       "    </tr>\n",
       "    <tr>\n",
       "      <th>3</th>\n",
       "      <td>Одежда, обувь, аксессуары</td>\n",
       "      <td>27</td>\n",
       "      <td>полусапожки полусапожки отличный состояние оде...</td>\n",
       "    </tr>\n",
       "    <tr>\n",
       "      <th>4</th>\n",
       "      <td>Одежда, обувь, аксессуары</td>\n",
       "      <td>27</td>\n",
       "      <td>босоножка кожаный кожаный натура босоножка kar...</td>\n",
       "    </tr>\n",
       "  </tbody>\n",
       "</table>\n",
       "</div>"
      ],
      "text/plain": [
       "               Category_name  Category  \\\n",
       "0      Запчасти и аксессуары        10   \n",
       "1            Бытовая техника        21   \n",
       "2          Предложение услуг       114   \n",
       "3  Одежда, обувь, аксессуары        27   \n",
       "4  Одежда, обувь, аксессуары        27   \n",
       "\n",
       "                                   title&description  \n",
       "0  эбу renault nissan dci delphi год комплект эбу...  \n",
       "1  утюг утп ватт ссср год продавать фото утюг утп...  \n",
       "2  возвма машина выкуп взять машина аренда послед...  \n",
       "3  полусапожки полусапожки отличный состояние оде...  \n",
       "4  босоножка кожаный кожаный натура босоножка kar...  "
      ]
     },
     "execution_count": 6,
     "metadata": {},
     "output_type": "execute_result"
    }
   ],
   "source": [
    "df_train.head()"
   ]
  },
  {
   "cell_type": "code",
   "execution_count": 7,
   "metadata": {},
   "outputs": [
    {
     "data": {
      "text/plain": [
       "'свитер продавать свитер идеально состояние фирма benetton размер\\n'"
      ]
     },
     "execution_count": 7,
     "metadata": {},
     "output_type": "execute_result"
    }
   ],
   "source": [
    "df_train['title&description'][7]"
   ]
  },
  {
   "cell_type": "code",
   "execution_count": 8,
   "metadata": {},
   "outputs": [
    {
     "data": {
      "text/plain": [
       "nan"
      ]
     },
     "execution_count": 8,
     "metadata": {},
     "output_type": "execute_result"
    }
   ],
   "source": [
    "df_train['title&description'][4184249]"
   ]
  },
  {
   "cell_type": "code",
   "execution_count": 9,
   "metadata": {},
   "outputs": [
    {
     "data": {
      "text/plain": [
       "216"
      ]
     },
     "execution_count": 9,
     "metadata": {},
     "output_type": "execute_result"
    }
   ],
   "source": [
    "rows = df_train.index[df_train.isnull().any(axis=1)]\n",
    "len(rows)"
   ]
  },
  {
   "cell_type": "code",
   "execution_count": 10,
   "metadata": {},
   "outputs": [],
   "source": [
    "df_train.drop(rows, 0, inplace=True)"
   ]
  },
  {
   "cell_type": "code",
   "execution_count": 11,
   "metadata": {},
   "outputs": [
    {
     "data": {
      "text/plain": [
       "(4233826, 3)"
      ]
     },
     "execution_count": 11,
     "metadata": {},
     "output_type": "execute_result"
    }
   ],
   "source": [
    "df_train.shape"
   ]
  },
  {
   "cell_type": "code",
   "execution_count": 12,
   "metadata": {},
   "outputs": [
    {
     "data": {
      "text/plain": [
       "50"
      ]
     },
     "execution_count": 12,
     "metadata": {},
     "output_type": "execute_result"
    }
   ],
   "source": [
    "len(df_train['Category'].value_counts())"
   ]
  },
  {
   "cell_type": "code",
   "execution_count": 13,
   "metadata": {},
   "outputs": [
    {
     "data": {
      "text/plain": [
       "Category_name        0\n",
       "Category             0\n",
       "title&description    0\n",
       "dtype: int64"
      ]
     },
     "execution_count": 13,
     "metadata": {},
     "output_type": "execute_result"
    }
   ],
   "source": [
    "df_train.isnull().sum()"
   ]
  },
  {
   "cell_type": "code",
   "execution_count": 14,
   "metadata": {},
   "outputs": [
    {
     "name": "stdout",
     "output_type": "stream",
     "text": [
      "CPU times: user 11min 6s, sys: 17.1 s, total: 11min 23s\n",
      "Wall time: 11min 23s\n"
     ]
    }
   ],
   "source": [
    "%%time\n",
    "\n",
    "tfidf_vectorizer = TfidfVectorizer(ngram_range=(1, 2), max_features=25000)\n",
    "X_train_tfidf = tfidf_vectorizer.fit_transform(df_train['title&description'])"
   ]
  },
  {
   "cell_type": "code",
   "execution_count": 15,
   "metadata": {},
   "outputs": [
    {
     "data": {
      "text/plain": [
       "25000"
      ]
     },
     "execution_count": 15,
     "metadata": {},
     "output_type": "execute_result"
    }
   ],
   "source": [
    "len(tfidf_vectorizer.get_feature_names())"
   ]
  },
  {
   "cell_type": "code",
   "execution_count": 16,
   "metadata": {},
   "outputs": [],
   "source": [
    "y_train = df_train['Category']"
   ]
  },
  {
   "cell_type": "code",
   "execution_count": 17,
   "metadata": {},
   "outputs": [],
   "source": [
    "del df_train"
   ]
  },
  {
   "cell_type": "code",
   "execution_count": 18,
   "metadata": {},
   "outputs": [
    {
     "name": "stdout",
     "output_type": "stream",
     "text": [
      "CPU times: user 45min 7s, sys: 6min 50s, total: 51min 58s\n",
      "Wall time: 49min 7s\n"
     ]
    },
    {
     "name": "stderr",
     "output_type": "stream",
     "text": [
      "/opt/conda/lib/python3.7/site-packages/sklearn/linear_model/_logistic.py:940: ConvergenceWarning: lbfgs failed to converge (status=1):\n",
      "STOP: TOTAL NO. of ITERATIONS REACHED LIMIT.\n",
      "\n",
      "Increase the number of iterations (max_iter) or scale the data as shown in:\n",
      "    https://scikit-learn.org/stable/modules/preprocessing.html\n",
      "Please also refer to the documentation for alternative solver options:\n",
      "    https://scikit-learn.org/stable/modules/linear_model.html#logistic-regression\n",
      "  extra_warning_msg=_LOGISTIC_SOLVER_CONVERGENCE_MSG)\n"
     ]
    },
    {
     "data": {
      "text/plain": [
       "LogisticRegression(C=1.0, class_weight=None, dual=False, fit_intercept=True,\n",
       "                   intercept_scaling=1, l1_ratio=None, max_iter=100,\n",
       "                   multi_class='auto', n_jobs=None, penalty='l2',\n",
       "                   random_state=13, solver='lbfgs', tol=0.0001, verbose=0,\n",
       "                   warm_start=False)"
      ]
     },
     "execution_count": 18,
     "metadata": {},
     "output_type": "execute_result"
    }
   ],
   "source": [
    "%%time\n",
    "\n",
    "lr = LogisticRegression(random_state=13)\n",
    "lr.fit(X_train_tfidf, y_train)"
   ]
  },
  {
   "cell_type": "code",
   "execution_count": 19,
   "metadata": {},
   "outputs": [],
   "source": [
    "df_test = pd.read_csv(os.path.join(DATA_DIR, 'texts-classification-iad-hse-intro-2020/test.csv'), dtype={'itemid' : 'uint32'})"
   ]
  },
  {
   "cell_type": "code",
   "execution_count": 20,
   "metadata": {},
   "outputs": [
    {
     "data": {
      "text/html": [
       "<div>\n",
       "<style scoped>\n",
       "    .dataframe tbody tr th:only-of-type {\n",
       "        vertical-align: middle;\n",
       "    }\n",
       "\n",
       "    .dataframe tbody tr th {\n",
       "        vertical-align: top;\n",
       "    }\n",
       "\n",
       "    .dataframe thead th {\n",
       "        text-align: right;\n",
       "    }\n",
       "</style>\n",
       "<table border=\"1\" class=\"dataframe\">\n",
       "  <thead>\n",
       "    <tr style=\"text-align: right;\">\n",
       "      <th></th>\n",
       "      <th>title</th>\n",
       "      <th>description</th>\n",
       "      <th>itemid</th>\n",
       "    </tr>\n",
       "  </thead>\n",
       "  <tbody>\n",
       "    <tr>\n",
       "      <th>0</th>\n",
       "      <td>Мастерка</td>\n",
       "      <td>Мастерка фирмы форвард. Белого цвета. В идеаль...</td>\n",
       "      <td>1778449823</td>\n",
       "    </tr>\n",
       "    <tr>\n",
       "      <th>1</th>\n",
       "      <td>Зимние сапоги</td>\n",
       "      <td>Продаю зимние сапоги, в хорошем состоянии, все...</td>\n",
       "      <td>1677656962</td>\n",
       "    </tr>\n",
       "    <tr>\n",
       "      <th>2</th>\n",
       "      <td>Видеонаблюдение 8 камер</td>\n",
       "      <td>В комплект Atis AMD-2MIR-8kit входит: /\\n1. Ку...</td>\n",
       "      <td>1758182804</td>\n",
       "    </tr>\n",
       "    <tr>\n",
       "      <th>3</th>\n",
       "      <td>Запчасти для GLE</td>\n",
       "      <td>Запчасти GLE</td>\n",
       "      <td>1689811299</td>\n",
       "    </tr>\n",
       "    <tr>\n",
       "      <th>4</th>\n",
       "      <td>Бластер nerf</td>\n",
       "      <td>Состояние 5+/\\nПродаю потому что не нужен/\\n18...</td>\n",
       "      <td>1804706240</td>\n",
       "    </tr>\n",
       "    <tr>\n",
       "      <th>...</th>\n",
       "      <td>...</td>\n",
       "      <td>...</td>\n",
       "      <td>...</td>\n",
       "    </tr>\n",
       "    <tr>\n",
       "      <th>1411343</th>\n",
       "      <td>Бетоносмеситель Россия бсэ-140 чугун</td>\n",
       "      <td>Бетономешалка российского производства - не Ки...</td>\n",
       "      <td>902146704</td>\n",
       "    </tr>\n",
       "    <tr>\n",
       "      <th>1411344</th>\n",
       "      <td>Разношрокие колеса R19 оригинал Porsche Panamera</td>\n",
       "      <td>Диски с резиной в отличном состоянии/\\n /\\nШин...</td>\n",
       "      <td>1799983289</td>\n",
       "    </tr>\n",
       "    <tr>\n",
       "      <th>1411345</th>\n",
       "      <td>Комбенз зимний размер</td>\n",
       "      <td>Комбензон на овчине .Подойдет зима , весна, ос...</td>\n",
       "      <td>1177237748</td>\n",
       "    </tr>\n",
       "    <tr>\n",
       "      <th>1411346</th>\n",
       "      <td>Смартфон Honor 5C</td>\n",
       "      <td>В отличном состоянии. Использовался с защитным...</td>\n",
       "      <td>1793055786</td>\n",
       "    </tr>\n",
       "    <tr>\n",
       "      <th>1411347</th>\n",
       "      <td>Слипоны Ralph Lauren 6.5</td>\n",
       "      <td>Новые без коробки , приехали из сша /\\n6.5 на ...</td>\n",
       "      <td>1109142980</td>\n",
       "    </tr>\n",
       "  </tbody>\n",
       "</table>\n",
       "<p>1411348 rows × 3 columns</p>\n",
       "</div>"
      ],
      "text/plain": [
       "                                                    title  \\\n",
       "0                                                Мастерка   \n",
       "1                                           Зимние сапоги   \n",
       "2                                 Видеонаблюдение 8 камер   \n",
       "3                                        Запчасти для GLE   \n",
       "4                                            Бластер nerf   \n",
       "...                                                   ...   \n",
       "1411343              Бетоносмеситель Россия бсэ-140 чугун   \n",
       "1411344  Разношрокие колеса R19 оригинал Porsche Panamera   \n",
       "1411345                             Комбенз зимний размер   \n",
       "1411346                                 Смартфон Honor 5C   \n",
       "1411347                          Слипоны Ralph Lauren 6.5   \n",
       "\n",
       "                                               description      itemid  \n",
       "0        Мастерка фирмы форвард. Белого цвета. В идеаль...  1778449823  \n",
       "1        Продаю зимние сапоги, в хорошем состоянии, все...  1677656962  \n",
       "2        В комплект Atis AMD-2MIR-8kit входит: /\\n1. Ку...  1758182804  \n",
       "3                                             Запчасти GLE  1689811299  \n",
       "4        Состояние 5+/\\nПродаю потому что не нужен/\\n18...  1804706240  \n",
       "...                                                    ...         ...  \n",
       "1411343  Бетономешалка российского производства - не Ки...   902146704  \n",
       "1411344  Диски с резиной в отличном состоянии/\\n /\\nШин...  1799983289  \n",
       "1411345  Комбензон на овчине .Подойдет зима , весна, ос...  1177237748  \n",
       "1411346  В отличном состоянии. Использовался с защитным...  1793055786  \n",
       "1411347  Новые без коробки , приехали из сша /\\n6.5 на ...  1109142980  \n",
       "\n",
       "[1411348 rows x 3 columns]"
      ]
     },
     "execution_count": 20,
     "metadata": {},
     "output_type": "execute_result"
    }
   ],
   "source": [
    "df_test"
   ]
  },
  {
   "cell_type": "code",
   "execution_count": 21,
   "metadata": {},
   "outputs": [
    {
     "data": {
      "text/plain": [
       "title          0\n",
       "description    1\n",
       "itemid         0\n",
       "dtype: int64"
      ]
     },
     "execution_count": 21,
     "metadata": {},
     "output_type": "execute_result"
    }
   ],
   "source": [
    "df_test.isnull().sum()"
   ]
  },
  {
   "cell_type": "code",
   "execution_count": 22,
   "metadata": {},
   "outputs": [],
   "source": [
    "df_test.fillna('', inplace=True)"
   ]
  },
  {
   "cell_type": "code",
   "execution_count": 23,
   "metadata": {},
   "outputs": [
    {
     "data": {
      "text/plain": [
       "title          0\n",
       "description    0\n",
       "itemid         0\n",
       "dtype: int64"
      ]
     },
     "execution_count": 23,
     "metadata": {},
     "output_type": "execute_result"
    }
   ],
   "source": [
    "df_test.isnull().sum()"
   ]
  },
  {
   "cell_type": "code",
   "execution_count": 24,
   "metadata": {},
   "outputs": [
    {
     "name": "stdout",
     "output_type": "stream",
     "text": [
      "CPU times: user 3.54 s, sys: 409 ms, total: 3.95 s\n",
      "Wall time: 3.96 s\n"
     ]
    },
    {
     "data": {
      "text/html": [
       "<div>\n",
       "<style scoped>\n",
       "    .dataframe tbody tr th:only-of-type {\n",
       "        vertical-align: middle;\n",
       "    }\n",
       "\n",
       "    .dataframe tbody tr th {\n",
       "        vertical-align: top;\n",
       "    }\n",
       "\n",
       "    .dataframe thead th {\n",
       "        text-align: right;\n",
       "    }\n",
       "</style>\n",
       "<table border=\"1\" class=\"dataframe\">\n",
       "  <thead>\n",
       "    <tr style=\"text-align: right;\">\n",
       "      <th></th>\n",
       "      <th>title</th>\n",
       "      <th>description</th>\n",
       "      <th>itemid</th>\n",
       "      <th>title&amp;description</th>\n",
       "    </tr>\n",
       "  </thead>\n",
       "  <tbody>\n",
       "    <tr>\n",
       "      <th>0</th>\n",
       "      <td>Мастерка</td>\n",
       "      <td>Мастерка фирмы форвард. Белого цвета. В идеаль...</td>\n",
       "      <td>1778449823</td>\n",
       "      <td>Мастерка Мастерка фирмы форвард. Белого цвета....</td>\n",
       "    </tr>\n",
       "    <tr>\n",
       "      <th>1</th>\n",
       "      <td>Зимние сапоги</td>\n",
       "      <td>Продаю зимние сапоги, в хорошем состоянии, все...</td>\n",
       "      <td>1677656962</td>\n",
       "      <td>Зимние сапоги Продаю зимние сапоги, в хорошем ...</td>\n",
       "    </tr>\n",
       "    <tr>\n",
       "      <th>2</th>\n",
       "      <td>Видеонаблюдение 8 камер</td>\n",
       "      <td>В комплект Atis AMD-2MIR-8kit входит: /\\n1. Ку...</td>\n",
       "      <td>1758182804</td>\n",
       "      <td>Видеонаблюдение 8 камер В комплект Atis AMD-2M...</td>\n",
       "    </tr>\n",
       "    <tr>\n",
       "      <th>3</th>\n",
       "      <td>Запчасти для GLE</td>\n",
       "      <td>Запчасти GLE</td>\n",
       "      <td>1689811299</td>\n",
       "      <td>Запчасти для GLE Запчасти GLE</td>\n",
       "    </tr>\n",
       "    <tr>\n",
       "      <th>4</th>\n",
       "      <td>Бластер nerf</td>\n",
       "      <td>Состояние 5+/\\nПродаю потому что не нужен/\\n18...</td>\n",
       "      <td>1804706240</td>\n",
       "      <td>Бластер nerf Состояние 5+/\\nПродаю потому что ...</td>\n",
       "    </tr>\n",
       "  </tbody>\n",
       "</table>\n",
       "</div>"
      ],
      "text/plain": [
       "                     title                                        description  \\\n",
       "0                 Мастерка  Мастерка фирмы форвард. Белого цвета. В идеаль...   \n",
       "1            Зимние сапоги  Продаю зимние сапоги, в хорошем состоянии, все...   \n",
       "2  Видеонаблюдение 8 камер  В комплект Atis AMD-2MIR-8kit входит: /\\n1. Ку...   \n",
       "3         Запчасти для GLE                                       Запчасти GLE   \n",
       "4             Бластер nerf  Состояние 5+/\\nПродаю потому что не нужен/\\n18...   \n",
       "\n",
       "       itemid                                  title&description  \n",
       "0  1778449823  Мастерка Мастерка фирмы форвард. Белого цвета....  \n",
       "1  1677656962  Зимние сапоги Продаю зимние сапоги, в хорошем ...  \n",
       "2  1758182804  Видеонаблюдение 8 камер В комплект Atis AMD-2M...  \n",
       "3  1689811299                      Запчасти для GLE Запчасти GLE  \n",
       "4  1804706240  Бластер nerf Состояние 5+/\\nПродаю потому что ...  "
      ]
     },
     "execution_count": 24,
     "metadata": {},
     "output_type": "execute_result"
    }
   ],
   "source": [
    "%%time\n",
    "\n",
    "df_test['title&description'] = df_test['title'].str[:] + ' ' + df_test['description'].str[:]\n",
    "df_test.head()"
   ]
  },
  {
   "cell_type": "code",
   "execution_count": 25,
   "metadata": {},
   "outputs": [],
   "source": [
    "df_test = df_test.drop(['title','description'], axis=1)"
   ]
  },
  {
   "cell_type": "code",
   "execution_count": 26,
   "metadata": {},
   "outputs": [
    {
     "data": {
      "text/html": [
       "<div>\n",
       "<style scoped>\n",
       "    .dataframe tbody tr th:only-of-type {\n",
       "        vertical-align: middle;\n",
       "    }\n",
       "\n",
       "    .dataframe tbody tr th {\n",
       "        vertical-align: top;\n",
       "    }\n",
       "\n",
       "    .dataframe thead th {\n",
       "        text-align: right;\n",
       "    }\n",
       "</style>\n",
       "<table border=\"1\" class=\"dataframe\">\n",
       "  <thead>\n",
       "    <tr style=\"text-align: right;\">\n",
       "      <th></th>\n",
       "      <th>itemid</th>\n",
       "      <th>title&amp;description</th>\n",
       "    </tr>\n",
       "  </thead>\n",
       "  <tbody>\n",
       "    <tr>\n",
       "      <th>0</th>\n",
       "      <td>1778449823</td>\n",
       "      <td>Мастерка Мастерка фирмы форвард. Белого цвета....</td>\n",
       "    </tr>\n",
       "    <tr>\n",
       "      <th>1</th>\n",
       "      <td>1677656962</td>\n",
       "      <td>Зимние сапоги Продаю зимние сапоги, в хорошем ...</td>\n",
       "    </tr>\n",
       "    <tr>\n",
       "      <th>2</th>\n",
       "      <td>1758182804</td>\n",
       "      <td>Видеонаблюдение 8 камер В комплект Atis AMD-2M...</td>\n",
       "    </tr>\n",
       "    <tr>\n",
       "      <th>3</th>\n",
       "      <td>1689811299</td>\n",
       "      <td>Запчасти для GLE Запчасти GLE</td>\n",
       "    </tr>\n",
       "    <tr>\n",
       "      <th>4</th>\n",
       "      <td>1804706240</td>\n",
       "      <td>Бластер nerf Состояние 5+/\\nПродаю потому что ...</td>\n",
       "    </tr>\n",
       "    <tr>\n",
       "      <th>...</th>\n",
       "      <td>...</td>\n",
       "      <td>...</td>\n",
       "    </tr>\n",
       "    <tr>\n",
       "      <th>1411343</th>\n",
       "      <td>902146704</td>\n",
       "      <td>Бетоносмеситель Россия бсэ-140 чугун Бетономеш...</td>\n",
       "    </tr>\n",
       "    <tr>\n",
       "      <th>1411344</th>\n",
       "      <td>1799983289</td>\n",
       "      <td>Разношрокие колеса R19 оригинал Porsche Paname...</td>\n",
       "    </tr>\n",
       "    <tr>\n",
       "      <th>1411345</th>\n",
       "      <td>1177237748</td>\n",
       "      <td>Комбенз зимний размер Комбензон на овчине .Под...</td>\n",
       "    </tr>\n",
       "    <tr>\n",
       "      <th>1411346</th>\n",
       "      <td>1793055786</td>\n",
       "      <td>Смартфон Honor 5C В отличном состоянии. Исполь...</td>\n",
       "    </tr>\n",
       "    <tr>\n",
       "      <th>1411347</th>\n",
       "      <td>1109142980</td>\n",
       "      <td>Слипоны Ralph Lauren 6.5 Новые без коробки , п...</td>\n",
       "    </tr>\n",
       "  </tbody>\n",
       "</table>\n",
       "<p>1411348 rows × 2 columns</p>\n",
       "</div>"
      ],
      "text/plain": [
       "             itemid                                  title&description\n",
       "0        1778449823  Мастерка Мастерка фирмы форвард. Белого цвета....\n",
       "1        1677656962  Зимние сапоги Продаю зимние сапоги, в хорошем ...\n",
       "2        1758182804  Видеонаблюдение 8 камер В комплект Atis AMD-2M...\n",
       "3        1689811299                      Запчасти для GLE Запчасти GLE\n",
       "4        1804706240  Бластер nerf Состояние 5+/\\nПродаю потому что ...\n",
       "...             ...                                                ...\n",
       "1411343   902146704  Бетоносмеситель Россия бсэ-140 чугун Бетономеш...\n",
       "1411344  1799983289  Разношрокие колеса R19 оригинал Porsche Paname...\n",
       "1411345  1177237748  Комбенз зимний размер Комбензон на овчине .Под...\n",
       "1411346  1793055786  Смартфон Honor 5C В отличном состоянии. Исполь...\n",
       "1411347  1109142980  Слипоны Ralph Lauren 6.5 Новые без коробки , п...\n",
       "\n",
       "[1411348 rows x 2 columns]"
      ]
     },
     "execution_count": 26,
     "metadata": {},
     "output_type": "execute_result"
    }
   ],
   "source": [
    "df_test"
   ]
  },
  {
   "cell_type": "code",
   "execution_count": 27,
   "metadata": {},
   "outputs": [
    {
     "name": "stdout",
     "output_type": "stream",
     "text": [
      "CPU times: user 8.78 s, sys: 557 ms, total: 9.33 s\n",
      "Wall time: 9.33 s\n"
     ]
    }
   ],
   "source": [
    "%%time\n",
    "\n",
    "df_test['title&description'] = df_test['title&description'].str.lower()\n",
    "df_test['title&description'] = df_test['title&description'].str.replace(r\"http\\S+\", \"\")\n",
    "df_test['title&description'] = df_test['title&description'].str.replace(r\"@\\S+\", \"\")"
   ]
  },
  {
   "cell_type": "code",
   "execution_count": 28,
   "metadata": {},
   "outputs": [
    {
     "name": "stderr",
     "output_type": "stream",
     "text": [
      "Installing mystem to /root/.local/bin/mystem from http://download.cdn.yandex.net/mystem/mystem-3.1-linux-64bit.tar.gz\n"
     ]
    }
   ],
   "source": [
    "noise = stopwords.words('russian') + list(punctuation)\n",
    "tknzr = WordPunctTokenizer()\n",
    "# morph = MorphAnalyzer()\n",
    "mystem = Mystem()"
   ]
  },
  {
   "cell_type": "code",
   "execution_count": 29,
   "metadata": {},
   "outputs": [],
   "source": [
    "def data_preprocessing(text):\n",
    "    tokens = tknzr.tokenize(text)\n",
    "    text = [word for word in tokens if (word not in noise and word.isalpha())]\n",
    "    text = ' '.join(text)\n",
    "    return text"
   ]
  },
  {
   "cell_type": "code",
   "execution_count": 30,
   "metadata": {},
   "outputs": [],
   "source": [
    "def lemmatization(text):\n",
    "    return ''.join(mystem.lemmatize(text))"
   ]
  },
  {
   "cell_type": "code",
   "execution_count": 31,
   "metadata": {},
   "outputs": [
    {
     "name": "stderr",
     "output_type": "stream",
     "text": [
      "1411348it [06:21, 3695.07it/s]\n"
     ]
    }
   ],
   "source": [
    "for idx, text in tqdm(enumerate(df_test['title&description'])):\n",
    "    df_test.at[idx, 'title&description'] = data_preprocessing(text)"
   ]
  },
  {
   "cell_type": "code",
   "execution_count": 32,
   "metadata": {},
   "outputs": [
    {
     "name": "stderr",
     "output_type": "stream",
     "text": [
      "500072it [12:14, 703.17it/s]"
     ]
    }
   ],
   "source": [
    "for idx, text in tqdm(enumerate(df_test['title&description'])):\n",
    "    df_test.at[idx, 'title&description'] = lemmatization(text)"
   ]
  },
  {
   "cell_type": "code",
   "execution_count": 33,
   "metadata": {},
   "outputs": [
    {
     "name": "stdout",
     "output_type": "stream",
     "text": [
      "CPU times: user 2min 51s, sys: 3.26 s, total: 2min 54s\n",
      "Wall time: 2min 54s\n"
     ]
    }
   ],
   "source": [
    "%%time\n",
    "\n",
    "X_test_tfidf = tfidf_vectorizer.transform(df_test['title&description'])\n",
    "y_test_pred = lr.predict(X_test_tfidf)"
   ]
  },
  {
   "cell_type": "code",
   "execution_count": 34,
   "metadata": {},
   "outputs": [],
   "source": [
    "sub = pd.read_csv(os.path.join(DATA_DIR, 'texts-classification-iad-hse-intro-2020/sample_submission.csv'), dtype={'itemid' : 'uint32', 'Category' : 'uint8'})"
   ]
  },
  {
   "cell_type": "code",
   "execution_count": 35,
   "metadata": {},
   "outputs": [
    {
     "data": {
      "text/plain": [
       "((1411348, 2), (1411348,))"
      ]
     },
     "execution_count": 35,
     "metadata": {},
     "output_type": "execute_result"
    }
   ],
   "source": [
    "sub.shape, y_test_pred.shape"
   ]
  },
  {
   "cell_type": "code",
   "execution_count": 36,
   "metadata": {},
   "outputs": [
    {
     "data": {
      "text/html": [
       "<div>\n",
       "<style scoped>\n",
       "    .dataframe tbody tr th:only-of-type {\n",
       "        vertical-align: middle;\n",
       "    }\n",
       "\n",
       "    .dataframe tbody tr th {\n",
       "        vertical-align: top;\n",
       "    }\n",
       "\n",
       "    .dataframe thead th {\n",
       "        text-align: right;\n",
       "    }\n",
       "</style>\n",
       "<table border=\"1\" class=\"dataframe\">\n",
       "  <thead>\n",
       "    <tr style=\"text-align: right;\">\n",
       "      <th></th>\n",
       "      <th>Id</th>\n",
       "      <th>Category</th>\n",
       "    </tr>\n",
       "  </thead>\n",
       "  <tbody>\n",
       "    <tr>\n",
       "      <th>0</th>\n",
       "      <td>1778449823</td>\n",
       "      <td>27</td>\n",
       "    </tr>\n",
       "    <tr>\n",
       "      <th>1</th>\n",
       "      <td>1677656962</td>\n",
       "      <td>29</td>\n",
       "    </tr>\n",
       "    <tr>\n",
       "      <th>2</th>\n",
       "      <td>1758182804</td>\n",
       "      <td>32</td>\n",
       "    </tr>\n",
       "    <tr>\n",
       "      <th>3</th>\n",
       "      <td>1689811299</td>\n",
       "      <td>10</td>\n",
       "    </tr>\n",
       "    <tr>\n",
       "      <th>4</th>\n",
       "      <td>1804706240</td>\n",
       "      <td>36</td>\n",
       "    </tr>\n",
       "  </tbody>\n",
       "</table>\n",
       "</div>"
      ],
      "text/plain": [
       "           Id  Category\n",
       "0  1778449823        27\n",
       "1  1677656962        29\n",
       "2  1758182804        32\n",
       "3  1689811299        10\n",
       "4  1804706240        36"
      ]
     },
     "execution_count": 36,
     "metadata": {},
     "output_type": "execute_result"
    }
   ],
   "source": [
    "sub['Category'] = y_test_pred\n",
    "sub.head()"
   ]
  },
  {
   "cell_type": "code",
   "execution_count": 37,
   "metadata": {},
   "outputs": [
    {
     "data": {
      "text/plain": [
       "49"
      ]
     },
     "execution_count": 37,
     "metadata": {},
     "output_type": "execute_result"
    }
   ],
   "source": [
    "len(sub['Category'].value_counts())"
   ]
  },
  {
   "cell_type": "code",
   "execution_count": 38,
   "metadata": {},
   "outputs": [],
   "source": [
    "sub.to_csv('submission.csv', index=False)"
   ]
  },
  {
   "cell_type": "code",
   "execution_count": null,
   "metadata": {},
   "outputs": [],
   "source": []
  }
 ],
 "metadata": {
  "kernelspec": {
   "display_name": "Python 3",
   "language": "python",
   "name": "python3"
  },
  "language_info": {
   "codemirror_mode": {
    "name": "ipython",
    "version": 3
   },
   "file_extension": ".py",
   "mimetype": "text/x-python",
   "name": "python",
   "nbconvert_exporter": "python",
   "pygments_lexer": "ipython3",
   "version": "3.7.6"
  }
 },
 "nbformat": 4,
 "nbformat_minor": 1
}
